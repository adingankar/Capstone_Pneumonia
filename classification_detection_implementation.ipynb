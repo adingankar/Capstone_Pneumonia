{
 "cells": [
  {
   "cell_type": "code",
   "execution_count": 1,
   "metadata": {
    "colab": {
     "base_uri": "https://localhost:8080/",
     "height": 185
    },
    "colab_type": "code",
    "executionInfo": {
     "elapsed": 12372,
     "status": "ok",
     "timestamp": 1582265985470,
     "user": {
      "displayName": "Murali Manohar",
      "photoUrl": "",
      "userId": "11024276211735209560"
     },
     "user_tz": -240
    },
    "id": "FNyn49gpKz25",
    "outputId": "635323f9-1b87-43cd-9881-0780a4fe76bd"
   },
   "outputs": [
    {
     "name": "stdout",
     "output_type": "stream",
     "text": [
      "Collecting pydicom\n",
      "\u001b[?25l  Downloading https://files.pythonhosted.org/packages/c0/ea/b05a0051a579acc8026e46a889354774a0da9d31f42aaa1af35a1f0e4a43/pydicom-1.4.1-py2.py3-none-any.whl (35.1MB)\n",
      "\u001b[K     |████████████████████████████████| 35.1MB 119kB/s \n",
      "\u001b[?25hInstalling collected packages: pydicom\n",
      "Successfully installed pydicom-1.4.1\n"
     ]
    },
    {
     "data": {
      "text/html": [
       "<p style=\"color: red;\">\n",
       "The default version of TensorFlow in Colab will soon switch to TensorFlow 2.x.<br>\n",
       "We recommend you <a href=\"https://www.tensorflow.org/guide/migrate\" target=\"_blank\">upgrade</a> now \n",
       "or ensure your notebook will continue to use TensorFlow 1.x via the <code>%tensorflow_version 1.x</code> magic:\n",
       "<a href=\"https://colab.research.google.com/notebooks/tensorflow_version.ipynb\" target=\"_blank\">more info</a>.</p>\n"
      ],
      "text/plain": [
       "<IPython.core.display.HTML object>"
      ]
     },
     "metadata": {
      "tags": []
     },
     "output_type": "display_data"
    },
    {
     "name": "stderr",
     "output_type": "stream",
     "text": [
      "Using TensorFlow backend.\n"
     ]
    }
   ],
   "source": [
    "import warnings\n",
    "warnings.filterwarnings('ignore')\n",
    "\n",
    "!pip install pydicom\n",
    "import pandas as pd\n",
    "import numpy as np\n",
    "import random\n",
    "import csv\n",
    "import os\n",
    "\n",
    "import pydicom,cv2,pylab\n",
    "import seaborn as sns\n",
    "import pydicom as dcm\n",
    "\n",
    "from skimage import io\n",
    "from skimage import measure\n",
    "from skimage.transform import resize\n",
    "\n",
    "import tensorflow as tf\n",
    "import keras.backend as K\n",
    "from tensorflow import keras\n",
    "from keras.preprocessing.image import ImageDataGenerator\n",
    "\n",
    "\n",
    "\n",
    "from matplotlib import pyplot as plt\n",
    "import matplotlib.patches as patches\n"
   ]
  },
  {
   "cell_type": "code",
   "execution_count": 0,
   "metadata": {
    "colab": {},
    "colab_type": "code",
    "id": "txPcHMieK_tZ"
   },
   "outputs": [],
   "source": []
  },
  {
   "cell_type": "code",
   "execution_count": 2,
   "metadata": {
    "colab": {
     "base_uri": "https://localhost:8080/",
     "height": 122
    },
    "colab_type": "code",
    "executionInfo": {
     "elapsed": 132199,
     "status": "ok",
     "timestamp": 1582266106915,
     "user": {
      "displayName": "Murali Manohar",
      "photoUrl": "",
      "userId": "11024276211735209560"
     },
     "user_tz": -240
    },
    "id": "zjvmwrPZoiSb",
    "outputId": "86ceb780-340f-4791-daa8-13643dc903a2"
   },
   "outputs": [
    {
     "name": "stdout",
     "output_type": "stream",
     "text": [
      "Go to this URL in a browser: https://accounts.google.com/o/oauth2/auth?client_id=947318989803-6bn6qk8qdgf4n4g3pfee6491hc0brc4i.apps.googleusercontent.com&redirect_uri=urn%3aietf%3awg%3aoauth%3a2.0%3aoob&response_type=code&scope=email%20https%3a%2f%2fwww.googleapis.com%2fauth%2fdocs.test%20https%3a%2f%2fwww.googleapis.com%2fauth%2fdrive%20https%3a%2f%2fwww.googleapis.com%2fauth%2fdrive.photos.readonly%20https%3a%2f%2fwww.googleapis.com%2fauth%2fpeopleapi.readonly\n",
      "\n",
      "Enter your authorization code:\n",
      "··········\n",
      "Mounted at ./content/\n"
     ]
    }
   ],
   "source": [
    "#Mounting drive\n",
    "from google.colab import drive\n",
    "drive.mount('./content/')"
   ]
  },
  {
   "cell_type": "code",
   "execution_count": 0,
   "metadata": {
    "colab": {},
    "colab_type": "code",
    "id": "5GYsEzJZyxlI"
   },
   "outputs": [],
   "source": [
    "#Defining project path\n",
    "project_path = \"./content/My Drive/\""
   ]
  },
  {
   "cell_type": "code",
   "execution_count": 0,
   "metadata": {
    "colab": {},
    "colab_type": "code",
    "id": "xn5EW0FNy35H"
   },
   "outputs": [],
   "source": [
    "#Unzippiong data file\n",
    "from zipfile import ZipFile\n",
    "with ZipFile(project_path+'rsna-pneumonia-detection-challenge.zip', 'r') as z:\n",
    "  z.extractall()"
   ]
  },
  {
   "cell_type": "code",
   "execution_count": 0,
   "metadata": {
    "colab": {},
    "colab_type": "code",
    "id": "HdzIMhMsKz3m"
   },
   "outputs": [],
   "source": [
    "import keras\n",
    "import tensorflow as tf\n",
    "from keras import regularizers\n",
    "from keras.datasets import mnist\n",
    "from keras.models import Sequential\n",
    "from keras.models import Model, Input\n",
    "from keras.layers import Dense, Dropout, Flatten\n",
    "from keras.layers import Conv2D, MaxPooling2D, LeakyReLU\n",
    "from keras.callbacks import ModelCheckpoint,EarlyStopping, ReduceLROnPlateau, TensorBoard\n",
    "from keras.applications.densenet import DenseNet121\n",
    "from sklearn.metrics import accuracy_score, recall_score, precision_score, f1_score, confusion_matrix,roc_auc_score\n",
    "\n"
   ]
  },
  {
   "cell_type": "code",
   "execution_count": 6,
   "metadata": {
    "colab": {
     "base_uri": "https://localhost:8080/",
     "height": 34
    },
    "colab_type": "code",
    "executionInfo": {
     "elapsed": 1309,
     "status": "ok",
     "timestamp": 1582266229860,
     "user": {
      "displayName": "Murali Manohar",
      "photoUrl": "",
      "userId": "11024276211735209560"
     },
     "user_tz": -240
    },
    "id": "8ydMwu_0Kz39",
    "outputId": "e1d46634-8965-492e-efdf-5e696409f8cb"
   },
   "outputs": [
    {
     "data": {
      "text/plain": [
       "'/content'"
      ]
     },
     "execution_count": 6,
     "metadata": {
      "tags": []
     },
     "output_type": "execute_result"
    }
   ],
   "source": [
    "os.getcwd()"
   ]
  },
  {
   "cell_type": "code",
   "execution_count": 45,
   "metadata": {
    "colab": {
     "base_uri": "https://localhost:8080/",
     "height": 34
    },
    "colab_type": "code",
    "executionInfo": {
     "elapsed": 1370,
     "status": "ok",
     "timestamp": 1582271079606,
     "user": {
      "displayName": "Murali Manohar",
      "photoUrl": "",
      "userId": "11024276211735209560"
     },
     "user_tz": -240
    },
    "id": "iv2cMlDRKz4T",
    "outputId": "39a87172-eacc-4670-cf2a-01faad4220b9"
   },
   "outputs": [
    {
     "name": "stdout",
     "output_type": "stream",
     "text": [
      "n test samples: 3000\n"
     ]
    }
   ],
   "source": [
    "# load and shuffle filenames\n",
    "folder_test = '/content/stage_2_test_images'\n",
    "test_filenames = os.listdir(folder_test)\n",
    "print('n test samples:', len(test_filenames))"
   ]
  },
  {
   "cell_type": "code",
   "execution_count": 0,
   "metadata": {
    "colab": {},
    "colab_type": "code",
    "id": "lnXSuaAMKz4q"
   },
   "outputs": [],
   "source": [
    "random.shuffle(test_filenames)\n",
    "samples = 100\n",
    "test_samples = test_filenames[:samples]"
   ]
  },
  {
   "cell_type": "markdown",
   "metadata": {
    "colab_type": "text",
    "id": "bFACvrJ_Kz5I"
   },
   "source": [
    "MODEL 1 : CHEXNET CLASSIFICATION MODEL "
   ]
  },
  {
   "cell_type": "code",
   "execution_count": 9,
   "metadata": {
    "colab": {
     "base_uri": "https://localhost:8080/",
     "height": 938
    },
    "colab_type": "code",
    "executionInfo": {
     "elapsed": 28727,
     "status": "ok",
     "timestamp": 1582266257294,
     "user": {
      "displayName": "Murali Manohar",
      "photoUrl": "",
      "userId": "11024276211735209560"
     },
     "user_tz": -240
    },
    "id": "K1ECajvAKz5P",
    "outputId": "0e426554-8f97-4667-e458-8f09c26fcf7b"
   },
   "outputs": [
    {
     "name": "stdout",
     "output_type": "stream",
     "text": [
      "WARNING:tensorflow:From /usr/local/lib/python3.6/dist-packages/keras/backend/tensorflow_backend.py:66: The name tf.get_default_graph is deprecated. Please use tf.compat.v1.get_default_graph instead.\n",
      "\n",
      "WARNING:tensorflow:From /usr/local/lib/python3.6/dist-packages/keras/backend/tensorflow_backend.py:541: The name tf.placeholder is deprecated. Please use tf.compat.v1.placeholder instead.\n",
      "\n",
      "WARNING:tensorflow:From /usr/local/lib/python3.6/dist-packages/keras/backend/tensorflow_backend.py:4432: The name tf.random_uniform is deprecated. Please use tf.random.uniform instead.\n",
      "\n",
      "WARNING:tensorflow:From /usr/local/lib/python3.6/dist-packages/keras/backend/tensorflow_backend.py:190: The name tf.get_default_session is deprecated. Please use tf.compat.v1.get_default_session instead.\n",
      "\n",
      "WARNING:tensorflow:From /usr/local/lib/python3.6/dist-packages/keras/backend/tensorflow_backend.py:197: The name tf.ConfigProto is deprecated. Please use tf.compat.v1.ConfigProto instead.\n",
      "\n",
      "WARNING:tensorflow:From /usr/local/lib/python3.6/dist-packages/keras/backend/tensorflow_backend.py:203: The name tf.Session is deprecated. Please use tf.compat.v1.Session instead.\n",
      "\n",
      "WARNING:tensorflow:From /usr/local/lib/python3.6/dist-packages/keras/backend/tensorflow_backend.py:207: The name tf.global_variables is deprecated. Please use tf.compat.v1.global_variables instead.\n",
      "\n",
      "WARNING:tensorflow:From /usr/local/lib/python3.6/dist-packages/keras/backend/tensorflow_backend.py:216: The name tf.is_variable_initialized is deprecated. Please use tf.compat.v1.is_variable_initialized instead.\n",
      "\n",
      "WARNING:tensorflow:From /usr/local/lib/python3.6/dist-packages/keras/backend/tensorflow_backend.py:223: The name tf.variables_initializer is deprecated. Please use tf.compat.v1.variables_initializer instead.\n",
      "\n",
      "WARNING:tensorflow:From /usr/local/lib/python3.6/dist-packages/keras/backend/tensorflow_backend.py:2041: The name tf.nn.fused_batch_norm is deprecated. Please use tf.compat.v1.nn.fused_batch_norm instead.\n",
      "\n",
      "WARNING:tensorflow:From /usr/local/lib/python3.6/dist-packages/keras/backend/tensorflow_backend.py:148: The name tf.placeholder_with_default is deprecated. Please use tf.compat.v1.placeholder_with_default instead.\n",
      "\n",
      "WARNING:tensorflow:From /usr/local/lib/python3.6/dist-packages/keras/backend/tensorflow_backend.py:4267: The name tf.nn.max_pool is deprecated. Please use tf.nn.max_pool2d instead.\n",
      "\n",
      "WARNING:tensorflow:From /usr/local/lib/python3.6/dist-packages/keras/backend/tensorflow_backend.py:4271: The name tf.nn.avg_pool is deprecated. Please use tf.nn.avg_pool2d instead.\n",
      "\n",
      "WARNING:tensorflow:From /usr/local/lib/python3.6/dist-packages/keras/backend/tensorflow_backend.py:3733: calling dropout (from tensorflow.python.ops.nn_ops) with keep_prob is deprecated and will be removed in a future version.\n",
      "Instructions for updating:\n",
      "Please use `rate` instead of `keep_prob`. Rate should be set to `rate = 1 - keep_prob`.\n",
      "WARNING:tensorflow:Large dropout rate: 0.6 (>0.5). In TensorFlow 2.x, dropout() uses dropout rate instead of keep_prob. Please ensure that this is intended.\n",
      "WARNING:tensorflow:Large dropout rate: 0.6 (>0.5). In TensorFlow 2.x, dropout() uses dropout rate instead of keep_prob. Please ensure that this is intended.\n",
      "Model: \"sequential_1\"\n",
      "_________________________________________________________________\n",
      "Layer (type)                 Output Shape              Param #   \n",
      "=================================================================\n",
      "ChexNet (Model)              (None, 1024)              7037504   \n",
      "_________________________________________________________________\n",
      "drop_0 (Dropout)             (None, 1024)              0         \n",
      "_________________________________________________________________\n",
      "dense_1 (Dense)              (None, 512)               524800    \n",
      "_________________________________________________________________\n",
      "dense_2 (Dense)              (None, 256)               131328    \n",
      "_________________________________________________________________\n",
      "leaky_re_lu_1 (LeakyReLU)    (None, 256)               0         \n",
      "_________________________________________________________________\n",
      "drop_2 (Dropout)             (None, 256)               0         \n",
      "_________________________________________________________________\n",
      "out (Dense)                  (None, 1)                 257       \n",
      "=================================================================\n",
      "Total params: 7,693,889\n",
      "Trainable params: 7,610,241\n",
      "Non-trainable params: 83,648\n",
      "_________________________________________________________________\n"
     ]
    }
   ],
   "source": [
    "image_size = 256\n",
    "# Constant parameters \n",
    "input_shape = (image_size, image_size, 3)\n",
    "num_classes = 1\n",
    "\n",
    "#Initialize the model\n",
    "\n",
    "inputs = Input(shape=input_shape)\n",
    "\n",
    "chexNet = DenseNet121(\n",
    "          include_top=True\n",
    "        , input_tensor=inputs\n",
    "        , weights=\"./content/My Drive/ChexNet_weight.h5\"\n",
    "        , classes=14\n",
    "    )\n",
    " \n",
    "chexNet = Model(\n",
    "          inputs=inputs\n",
    "        , outputs=chexNet.layers[-2].output\n",
    "        , name=\"ChexNet\"\n",
    "    )\n",
    " # Weights downloaded from https://github.com/erniechiew/kaggle_rsna_pneumonia_dancingbears/tree/master/classification \n",
    "\n",
    "class_model = Sequential()\n",
    "\n",
    "class_model.add(chexNet)\n",
    "\n",
    "class_model.add(Dropout(0.6, name=\"drop_0\"))\n",
    "#model.add(Dense(512, activation = 'relu', name = \"dense_0\", kernel_regularizer = regularizers.l2(0.01)))\n",
    "class_model.add(Dense(512, activation = 'relu', name = 'dense_1', kernel_regularizer = regularizers.l2(0.01)))\n",
    "class_model.add(Dense(256, activation = None, name = 'dense_2', kernel_regularizer = regularizers.l2(0.01)))\n",
    "class_model.add(LeakyReLU(alpha=0.3))\n",
    "class_model.add(Dropout(0.6, name=\"drop_2\"))\n",
    "class_model.add(Dense(1, activation=\"sigmoid\", name=\"out\"))\n",
    "\n",
    "\n",
    "\n",
    "class_model.summary()\n"
   ]
  },
  {
   "cell_type": "markdown",
   "metadata": {
    "colab_type": "text",
    "id": "TsFMWNZBKz5h"
   },
   "source": [
    "MODEL 2 : CNN SEGMENTATION FOR BOUNDING BOX PREDICTION MODEL"
   ]
  },
  {
   "cell_type": "code",
   "execution_count": 10,
   "metadata": {
    "colab": {
     "base_uri": "https://localhost:8080/",
     "height": 1000
    },
    "colab_type": "code",
    "executionInfo": {
     "elapsed": 31726,
     "status": "ok",
     "timestamp": 1582266260300,
     "user": {
      "displayName": "Murali Manohar",
      "photoUrl": "",
      "userId": "11024276211735209560"
     },
     "user_tz": -240
    },
    "id": "kGpcV3KpKz5l",
    "outputId": "2415ff83-cce8-4d4e-d064-566aa154d512"
   },
   "outputs": [
    {
     "name": "stdout",
     "output_type": "stream",
     "text": [
      "WARNING:tensorflow:From /usr/local/lib/python3.6/dist-packages/keras/backend/tensorflow_backend.py:2239: The name tf.image.resize_nearest_neighbor is deprecated. Please use tf.compat.v1.image.resize_nearest_neighbor instead.\n",
      "\n",
      "Model: \"model_1\"\n",
      "__________________________________________________________________________________________________\n",
      "Layer (type)                    Output Shape         Param #     Connected to                     \n",
      "==================================================================================================\n",
      "input_2 (InputLayer)            (None, 256, 256, 1)  0                                            \n",
      "__________________________________________________________________________________________________\n",
      "conv2d_1 (Conv2D)               (None, 256, 256, 32) 288         input_2[0][0]                    \n",
      "__________________________________________________________________________________________________\n",
      "batch_normalization_1 (BatchNor (None, 256, 256, 32) 128         conv2d_1[0][0]                   \n",
      "__________________________________________________________________________________________________\n",
      "leaky_re_lu_2 (LeakyReLU)       (None, 256, 256, 32) 0           batch_normalization_1[0][0]      \n",
      "__________________________________________________________________________________________________\n",
      "conv2d_2 (Conv2D)               (None, 256, 256, 64) 2048        leaky_re_lu_2[0][0]              \n",
      "__________________________________________________________________________________________________\n",
      "max_pooling2d_1 (MaxPooling2D)  (None, 128, 128, 64) 0           conv2d_2[0][0]                   \n",
      "__________________________________________________________________________________________________\n",
      "batch_normalization_2 (BatchNor (None, 128, 128, 64) 256         max_pooling2d_1[0][0]            \n",
      "__________________________________________________________________________________________________\n",
      "leaky_re_lu_3 (LeakyReLU)       (None, 128, 128, 64) 0           batch_normalization_2[0][0]      \n",
      "__________________________________________________________________________________________________\n",
      "conv2d_3 (Conv2D)               (None, 128, 128, 64) 36864       leaky_re_lu_3[0][0]              \n",
      "__________________________________________________________________________________________________\n",
      "batch_normalization_3 (BatchNor (None, 128, 128, 64) 256         conv2d_3[0][0]                   \n",
      "__________________________________________________________________________________________________\n",
      "leaky_re_lu_4 (LeakyReLU)       (None, 128, 128, 64) 0           batch_normalization_3[0][0]      \n",
      "__________________________________________________________________________________________________\n",
      "conv2d_4 (Conv2D)               (None, 128, 128, 64) 36864       leaky_re_lu_4[0][0]              \n",
      "__________________________________________________________________________________________________\n",
      "add_1 (Add)                     (None, 128, 128, 64) 0           conv2d_4[0][0]                   \n",
      "                                                                 max_pooling2d_1[0][0]            \n",
      "__________________________________________________________________________________________________\n",
      "batch_normalization_4 (BatchNor (None, 128, 128, 64) 256         add_1[0][0]                      \n",
      "__________________________________________________________________________________________________\n",
      "leaky_re_lu_5 (LeakyReLU)       (None, 128, 128, 64) 0           batch_normalization_4[0][0]      \n",
      "__________________________________________________________________________________________________\n",
      "conv2d_5 (Conv2D)               (None, 128, 128, 64) 36864       leaky_re_lu_5[0][0]              \n",
      "__________________________________________________________________________________________________\n",
      "batch_normalization_5 (BatchNor (None, 128, 128, 64) 256         conv2d_5[0][0]                   \n",
      "__________________________________________________________________________________________________\n",
      "leaky_re_lu_6 (LeakyReLU)       (None, 128, 128, 64) 0           batch_normalization_5[0][0]      \n",
      "__________________________________________________________________________________________________\n",
      "conv2d_6 (Conv2D)               (None, 128, 128, 64) 36864       leaky_re_lu_6[0][0]              \n",
      "__________________________________________________________________________________________________\n",
      "add_2 (Add)                     (None, 128, 128, 64) 0           conv2d_6[0][0]                   \n",
      "                                                                 add_1[0][0]                      \n",
      "__________________________________________________________________________________________________\n",
      "batch_normalization_6 (BatchNor (None, 128, 128, 64) 256         add_2[0][0]                      \n",
      "__________________________________________________________________________________________________\n",
      "leaky_re_lu_7 (LeakyReLU)       (None, 128, 128, 64) 0           batch_normalization_6[0][0]      \n",
      "__________________________________________________________________________________________________\n",
      "conv2d_7 (Conv2D)               (None, 128, 128, 128 8192        leaky_re_lu_7[0][0]              \n",
      "__________________________________________________________________________________________________\n",
      "max_pooling2d_2 (MaxPooling2D)  (None, 64, 64, 128)  0           conv2d_7[0][0]                   \n",
      "__________________________________________________________________________________________________\n",
      "batch_normalization_7 (BatchNor (None, 64, 64, 128)  512         max_pooling2d_2[0][0]            \n",
      "__________________________________________________________________________________________________\n",
      "leaky_re_lu_8 (LeakyReLU)       (None, 64, 64, 128)  0           batch_normalization_7[0][0]      \n",
      "__________________________________________________________________________________________________\n",
      "conv2d_8 (Conv2D)               (None, 64, 64, 128)  147456      leaky_re_lu_8[0][0]              \n",
      "__________________________________________________________________________________________________\n",
      "batch_normalization_8 (BatchNor (None, 64, 64, 128)  512         conv2d_8[0][0]                   \n",
      "__________________________________________________________________________________________________\n",
      "leaky_re_lu_9 (LeakyReLU)       (None, 64, 64, 128)  0           batch_normalization_8[0][0]      \n",
      "__________________________________________________________________________________________________\n",
      "conv2d_9 (Conv2D)               (None, 64, 64, 128)  147456      leaky_re_lu_9[0][0]              \n",
      "__________________________________________________________________________________________________\n",
      "add_3 (Add)                     (None, 64, 64, 128)  0           conv2d_9[0][0]                   \n",
      "                                                                 max_pooling2d_2[0][0]            \n",
      "__________________________________________________________________________________________________\n",
      "batch_normalization_9 (BatchNor (None, 64, 64, 128)  512         add_3[0][0]                      \n",
      "__________________________________________________________________________________________________\n",
      "leaky_re_lu_10 (LeakyReLU)      (None, 64, 64, 128)  0           batch_normalization_9[0][0]      \n",
      "__________________________________________________________________________________________________\n",
      "conv2d_10 (Conv2D)              (None, 64, 64, 128)  147456      leaky_re_lu_10[0][0]             \n",
      "__________________________________________________________________________________________________\n",
      "batch_normalization_10 (BatchNo (None, 64, 64, 128)  512         conv2d_10[0][0]                  \n",
      "__________________________________________________________________________________________________\n",
      "leaky_re_lu_11 (LeakyReLU)      (None, 64, 64, 128)  0           batch_normalization_10[0][0]     \n",
      "__________________________________________________________________________________________________\n",
      "conv2d_11 (Conv2D)              (None, 64, 64, 128)  147456      leaky_re_lu_11[0][0]             \n",
      "__________________________________________________________________________________________________\n",
      "add_4 (Add)                     (None, 64, 64, 128)  0           conv2d_11[0][0]                  \n",
      "                                                                 add_3[0][0]                      \n",
      "__________________________________________________________________________________________________\n",
      "batch_normalization_11 (BatchNo (None, 64, 64, 128)  512         add_4[0][0]                      \n",
      "__________________________________________________________________________________________________\n",
      "leaky_re_lu_12 (LeakyReLU)      (None, 64, 64, 128)  0           batch_normalization_11[0][0]     \n",
      "__________________________________________________________________________________________________\n",
      "conv2d_12 (Conv2D)              (None, 64, 64, 256)  32768       leaky_re_lu_12[0][0]             \n",
      "__________________________________________________________________________________________________\n",
      "max_pooling2d_3 (MaxPooling2D)  (None, 32, 32, 256)  0           conv2d_12[0][0]                  \n",
      "__________________________________________________________________________________________________\n",
      "batch_normalization_12 (BatchNo (None, 32, 32, 256)  1024        max_pooling2d_3[0][0]            \n",
      "__________________________________________________________________________________________________\n",
      "leaky_re_lu_13 (LeakyReLU)      (None, 32, 32, 256)  0           batch_normalization_12[0][0]     \n",
      "__________________________________________________________________________________________________\n",
      "conv2d_13 (Conv2D)              (None, 32, 32, 256)  589824      leaky_re_lu_13[0][0]             \n",
      "__________________________________________________________________________________________________\n",
      "batch_normalization_13 (BatchNo (None, 32, 32, 256)  1024        conv2d_13[0][0]                  \n",
      "__________________________________________________________________________________________________\n",
      "leaky_re_lu_14 (LeakyReLU)      (None, 32, 32, 256)  0           batch_normalization_13[0][0]     \n",
      "__________________________________________________________________________________________________\n",
      "conv2d_14 (Conv2D)              (None, 32, 32, 256)  589824      leaky_re_lu_14[0][0]             \n",
      "__________________________________________________________________________________________________\n",
      "add_5 (Add)                     (None, 32, 32, 256)  0           conv2d_14[0][0]                  \n",
      "                                                                 max_pooling2d_3[0][0]            \n",
      "__________________________________________________________________________________________________\n",
      "batch_normalization_14 (BatchNo (None, 32, 32, 256)  1024        add_5[0][0]                      \n",
      "__________________________________________________________________________________________________\n",
      "leaky_re_lu_15 (LeakyReLU)      (None, 32, 32, 256)  0           batch_normalization_14[0][0]     \n",
      "__________________________________________________________________________________________________\n",
      "conv2d_15 (Conv2D)              (None, 32, 32, 256)  589824      leaky_re_lu_15[0][0]             \n",
      "__________________________________________________________________________________________________\n",
      "batch_normalization_15 (BatchNo (None, 32, 32, 256)  1024        conv2d_15[0][0]                  \n",
      "__________________________________________________________________________________________________\n",
      "leaky_re_lu_16 (LeakyReLU)      (None, 32, 32, 256)  0           batch_normalization_15[0][0]     \n",
      "__________________________________________________________________________________________________\n",
      "conv2d_16 (Conv2D)              (None, 32, 32, 256)  589824      leaky_re_lu_16[0][0]             \n",
      "__________________________________________________________________________________________________\n",
      "add_6 (Add)                     (None, 32, 32, 256)  0           conv2d_16[0][0]                  \n",
      "                                                                 add_5[0][0]                      \n",
      "__________________________________________________________________________________________________\n",
      "batch_normalization_16 (BatchNo (None, 32, 32, 256)  1024        add_6[0][0]                      \n",
      "__________________________________________________________________________________________________\n",
      "leaky_re_lu_17 (LeakyReLU)      (None, 32, 32, 256)  0           batch_normalization_16[0][0]     \n",
      "__________________________________________________________________________________________________\n",
      "conv2d_17 (Conv2D)              (None, 32, 32, 512)  131072      leaky_re_lu_17[0][0]             \n",
      "__________________________________________________________________________________________________\n",
      "max_pooling2d_4 (MaxPooling2D)  (None, 16, 16, 512)  0           conv2d_17[0][0]                  \n",
      "__________________________________________________________________________________________________\n",
      "batch_normalization_17 (BatchNo (None, 16, 16, 512)  2048        max_pooling2d_4[0][0]            \n",
      "__________________________________________________________________________________________________\n",
      "leaky_re_lu_18 (LeakyReLU)      (None, 16, 16, 512)  0           batch_normalization_17[0][0]     \n",
      "__________________________________________________________________________________________________\n",
      "conv2d_18 (Conv2D)              (None, 16, 16, 512)  2359296     leaky_re_lu_18[0][0]             \n",
      "__________________________________________________________________________________________________\n",
      "batch_normalization_18 (BatchNo (None, 16, 16, 512)  2048        conv2d_18[0][0]                  \n",
      "__________________________________________________________________________________________________\n",
      "leaky_re_lu_19 (LeakyReLU)      (None, 16, 16, 512)  0           batch_normalization_18[0][0]     \n",
      "__________________________________________________________________________________________________\n",
      "conv2d_19 (Conv2D)              (None, 16, 16, 512)  2359296     leaky_re_lu_19[0][0]             \n",
      "__________________________________________________________________________________________________\n",
      "add_7 (Add)                     (None, 16, 16, 512)  0           conv2d_19[0][0]                  \n",
      "                                                                 max_pooling2d_4[0][0]            \n",
      "__________________________________________________________________________________________________\n",
      "batch_normalization_19 (BatchNo (None, 16, 16, 512)  2048        add_7[0][0]                      \n",
      "__________________________________________________________________________________________________\n",
      "leaky_re_lu_20 (LeakyReLU)      (None, 16, 16, 512)  0           batch_normalization_19[0][0]     \n",
      "__________________________________________________________________________________________________\n",
      "conv2d_20 (Conv2D)              (None, 16, 16, 512)  2359296     leaky_re_lu_20[0][0]             \n",
      "__________________________________________________________________________________________________\n",
      "batch_normalization_20 (BatchNo (None, 16, 16, 512)  2048        conv2d_20[0][0]                  \n",
      "__________________________________________________________________________________________________\n",
      "leaky_re_lu_21 (LeakyReLU)      (None, 16, 16, 512)  0           batch_normalization_20[0][0]     \n",
      "__________________________________________________________________________________________________\n",
      "conv2d_21 (Conv2D)              (None, 16, 16, 512)  2359296     leaky_re_lu_21[0][0]             \n",
      "__________________________________________________________________________________________________\n",
      "add_8 (Add)                     (None, 16, 16, 512)  0           conv2d_21[0][0]                  \n",
      "                                                                 add_7[0][0]                      \n",
      "__________________________________________________________________________________________________\n",
      "batch_normalization_21 (BatchNo (None, 16, 16, 512)  2048        add_8[0][0]                      \n",
      "__________________________________________________________________________________________________\n",
      "leaky_re_lu_22 (LeakyReLU)      (None, 16, 16, 512)  0           batch_normalization_21[0][0]     \n",
      "__________________________________________________________________________________________________\n",
      "conv2d_22 (Conv2D)              (None, 16, 16, 1)    513         leaky_re_lu_22[0][0]             \n",
      "__________________________________________________________________________________________________\n",
      "up_sampling2d_1 (UpSampling2D)  (None, 256, 256, 1)  0           conv2d_22[0][0]                  \n",
      "==================================================================================================\n",
      "Total params: 12,727,969\n",
      "Trainable params: 12,718,305\n",
      "Non-trainable params: 9,664\n",
      "__________________________________________________________________________________________________\n"
     ]
    }
   ],
   "source": [
    "def create_downsample(channels, inputs):\n",
    "    x = keras.layers.BatchNormalization(momentum=0.9)(inputs)\n",
    "    x = keras.layers.LeakyReLU(0)(x)\n",
    "    x = keras.layers.Conv2D(channels, 1, padding='same', use_bias=False)(x)\n",
    "    x = keras.layers.MaxPool2D(2)(x)\n",
    "    return x\n",
    "\n",
    "def create_resblock(channels, inputs):\n",
    "    x = keras.layers.BatchNormalization(momentum=0.9)(inputs)\n",
    "    x = keras.layers.LeakyReLU(0)(x)\n",
    "    x = keras.layers.Conv2D(channels, 3, padding='same', use_bias=False)(x)\n",
    "    x = keras.layers.BatchNormalization(momentum=0.9)(x)\n",
    "    x = keras.layers.LeakyReLU(0)(x)\n",
    "    x = keras.layers.Conv2D(channels, 3, padding='same', use_bias=False)(x)\n",
    "    return keras.layers.add([x, inputs])\n",
    "\n",
    "def create_network(input_size, channels, n_blocks=2, depth=4):\n",
    "    # input\n",
    "    inputs = keras.Input(shape=(input_size, input_size, 1))\n",
    "    x = keras.layers.Conv2D(channels, 3, padding='same', use_bias=False)(inputs)\n",
    "    # residual blocks\n",
    "    for d in range(depth):\n",
    "        channels = channels * 2\n",
    "        x = create_downsample(channels, x)\n",
    "        for b in range(n_blocks):\n",
    "            x = create_resblock(channels, x)\n",
    "            # output\n",
    "    x = keras.layers.BatchNormalization(momentum=0.9)(x)\n",
    "    x = keras.layers.LeakyReLU(0)(x)\n",
    "    x = keras.layers.Conv2D(1, 1, activation='sigmoid')(x)\n",
    "    outputs = keras.layers.UpSampling2D(2**depth)(x)\n",
    "    model_bb = keras.Model(inputs=inputs, outputs=outputs)\n",
    "    return model_bb\n",
    "\n",
    "# create network and compiler\n",
    "model_bb = create_network(input_size = 256, channels=32)\n",
    "model_bb.summary()"
   ]
  },
  {
   "cell_type": "markdown",
   "metadata": {
    "colab_type": "text",
    "id": "-uwIO2XrKz54"
   },
   "source": [
    "LOADING CLASSIFICATION MODEL WEIGTHS"
   ]
  },
  {
   "cell_type": "code",
   "execution_count": 0,
   "metadata": {
    "colab": {},
    "colab_type": "code",
    "id": "FdoH_5KTKz59"
   },
   "outputs": [],
   "source": [
    "class_model.load_weights('/content/content/My Drive/classifier_768_train_aug_adam.h5')"
   ]
  },
  {
   "cell_type": "markdown",
   "metadata": {
    "colab_type": "text",
    "id": "90tPJk_aKz6N"
   },
   "source": [
    "LOADING CNN SEGMENTATION BOUNDING BOX MODEL"
   ]
  },
  {
   "cell_type": "code",
   "execution_count": 0,
   "metadata": {
    "colab": {},
    "colab_type": "code",
    "id": "Idenzi4MKz6R"
   },
   "outputs": [],
   "source": [
    "model_bb.load_weights('/content/content/My Drive/classifier_bb_256.h5')\n"
   ]
  },
  {
   "cell_type": "markdown",
   "metadata": {
    "colab_type": "text",
    "id": "oRMLrP-zK8XE"
   },
   "source": [
    "- CLASSIFICATION DETECTION MODEL FUNCTION \n"
   ]
  },
  {
   "cell_type": "code",
   "execution_count": 0,
   "metadata": {
    "colab": {},
    "colab_type": "code",
    "id": "D1zPGTZ0Kz65"
   },
   "outputs": [],
   "source": [
    "from skimage.measure import label,regionprops\n",
    "\n",
    "#Initializing Dictionary\n",
    "submission_dict = {}\n",
    "# loop through testset\n",
    "def classification_detection(filenames,classification_threshold, detection_threshold):\n",
    "    negative = 0\n",
    "    positive = 0\n",
    "    for filename in filenames:\n",
    "        img = pydicom.dcmread(os.path.join(folder_test, filename)).pixel_array # reading .dicom images\n",
    "        # resize image\n",
    "        img = resize(img, (image_size,image_size), mode='reflect')\n",
    "        #Normalize\n",
    "        img = img/255\n",
    "        #adding trailing dimensions\n",
    "        img_rgb = np.broadcast_to(img[...,np.newaxis],(1,image_size,image_size,3)) # Converting to 'rgb' for using with ChexNet\n",
    "        y = class_model.predict(img_rgb) #Prediction using ChexNet Prediction Model\n",
    "        if y < classification_threshold: # fixing threshold for classification\n",
    "          predictionString = ''\n",
    "          negative = negative + 1\n",
    "          submission_dict[filename] = ''\n",
    "        else:\n",
    "          positive = positive + 1\n",
    "          print(r'positive : {}'.format(positive))\n",
    "          img = np.broadcast_to(img[...,np.newaxis],(1,image_size,image_size,1)) \n",
    "          img = img*255\n",
    "          #print(img.shape)\n",
    "          #Predicting bounding box\n",
    "          pred = model_bb.predict(img)\n",
    "          patientId = filename\n",
    "          for pred in pred:\n",
    "            # resize predicted mask\n",
    "            pred = resize(pred, (1024, 1024), mode='reflect') #Resizing to 1024 x 1024\n",
    "            # threshold predicted mask\n",
    "            comp = pred[:, :, 0] > detection_threshold #fixing threshold for detection\n",
    "            # apply connected components\n",
    "            comp = measure.label(comp)\n",
    "            # apply bounding boxes\n",
    "            predictionString = ''\n",
    "            for region in measure.regionprops(comp):\n",
    "              # retrieve x, y, height and width\n",
    "              y, x, y2, x2 = region.bbox\n",
    "              height = y2 - y\n",
    "              width = x2 - x\n",
    "              axarr[axidx].add_patch(patches.Rectangle((x,y),width,height,linewidth=2,edgecolor='b',facecolor='none'))\n",
    "              # proxy for confidence score\n",
    "              conf = np.mean(pred[y:y+height, x:x+width])\n",
    "              # add to predictionString\n",
    "              predictionString += str(conf)  + ' ' + str(x) + ' ' + str(y) + ' ' + str(width) + ' ' + str(height) +  ' '\n",
    "            #add filename and predictionString to dictionary\n",
    "            patientId = patientId.split('.')[0]\n",
    "            print(patientId)\n",
    "            submission_dict[patientId] = predictionString\n",
    "            # stop if we've got them all\n",
    "          if len(submission_dict) == len(test_filenames):\n",
    "            return submission_dict, positive"
   ]
  },
  {
   "cell_type": "markdown",
   "metadata": {},
   "source": [
    "- DEFINED TWO THRESHOLDS ONE FOR CLASSIFICATION AND ANOTHER FOR DETECTION.  "
   ]
  },
  {
   "cell_type": "code",
   "execution_count": 176,
   "metadata": {
    "colab": {
     "base_uri": "https://localhost:8080/",
     "height": 1000
    },
    "colab_type": "code",
    "executionInfo": {
     "elapsed": 71893,
     "status": "ok",
     "timestamp": 1582280463023,
     "user": {
      "displayName": "Murali Manohar",
      "photoUrl": "",
      "userId": "11024276211735209560"
     },
     "user_tz": -240
    },
    "id": "vO9n8huZKz7u",
    "outputId": "31465999-f7d9-4a15-9a52-8f0bd4d98718"
   },
   "outputs": [
    {
     "name": "stdout",
     "output_type": "stream",
     "text": [
      "positive : 1\n",
      "14b6cb8d-0002-4f38-a5b7-7631b56e67df\n",
      "positive : 2\n",
      "136a7586-db1b-427d-b375-573b2c602424\n",
      "positive : 3\n",
      "134579da-ee59-40a1-a6c1-3d84b9dbbd31\n",
      "positive : 4\n",
      "2a31df3c-5131-4622-b63a-be9a058837bd\n",
      "positive : 5\n",
      "057a7499-4836-44ef-9490-56b002cd63c2\n",
      "positive : 6\n",
      "1f70a977-7222-4952-9ab3-7e1e03bab09c\n",
      "positive : 7\n",
      "1b560be4-be73-4976-8d09-06f2dc181701\n",
      "positive : 8\n",
      "2d0cb523-9de7-41d3-98a1-d8fcd371e28d\n",
      "positive : 9\n",
      "c1330177-9ef2-410c-a3ee-f7c1cabeddd1\n",
      "positive : 10\n",
      "2e696db4-4fe7-4de8-a4ae-ac4cf76e2c03\n",
      "positive : 11\n",
      "0d2e49e0-8fae-480b-aaa7-eede76cf9d5a\n",
      "positive : 12\n",
      "1b42362a-0fec-4327-a3ea-f11b6a05efff\n",
      "positive : 13\n",
      "274def79-ae29-4b96-a222-4489e79d54ea\n",
      "positive : 14\n",
      "1b3a8b8f-927e-43c2-a0c2-b3f2a996a636\n",
      "positive : 15\n",
      "222b5868-4ffe-480d-9441-2e7d793b5049\n",
      "positive : 16\n",
      "04170f9f-5d56-4ef7-9960-0afe2b50f778\n",
      "positive : 17\n",
      "2d701694-3c54-450e-a236-46cb724f5679\n",
      "positive : 18\n",
      "018cb7c3-0ec3-484d-a6a3-bd7c376605d1\n",
      "positive : 19\n",
      "2f4dcc33-3ccc-41ca-8b33-9db707891518\n",
      "positive : 20\n",
      "2969eca6-35c8-4e4c-8ba7-bb78273dec37\n",
      "positive : 21\n",
      "2ab60eb1-862d-442c-b25d-6aafbe253571\n",
      "positive : 22\n",
      "1510b788-b081-4600-8d76-d9cb55590edd\n",
      "positive : 23\n",
      "2f9119ab-038b-4657-a4aa-d6e83dcb6800\n",
      "positive : 24\n",
      "0e1d3610-9f6c-43ea-861f-feb86643987a\n",
      "positive : 25\n",
      "045e5500-3dcc-4d9b-8dc2-a85c611dd497\n",
      "positive : 26\n",
      "1285111b-557d-4f58-85d3-7a1425c7602e\n",
      "positive : 27\n",
      "1c8e654a-1515-40d4-a0bd-790b24d8cd15\n",
      "positive : 28\n",
      "27e53b80-88b1-4b72-94fd-0eb7f1a38ced\n",
      "positive : 29\n",
      "2094874f-2524-44ca-b3c5-6c4fc574625c\n"
     ]
    }
   ],
   "source": [
    "classification_detection(test_samples,0.4,0.4)"
   ]
  },
  {
   "cell_type": "code",
   "execution_count": 177,
   "metadata": {
    "colab": {
     "base_uri": "https://localhost:8080/",
     "height": 1000
    },
    "colab_type": "code",
    "executionInfo": {
     "elapsed": 905,
     "status": "ok",
     "timestamp": 1582280511561,
     "user": {
      "displayName": "Murali Manohar",
      "photoUrl": "",
      "userId": "11024276211735209560"
     },
     "user_tz": -240
    },
    "id": "GYSU9AsZKz78",
    "outputId": "70a7fe4b-872a-4a03-dcac-f1b70ca56117"
   },
   "outputs": [
    {
     "data": {
      "text/plain": [
       "{'001b0c51-c7b3-45c1-9c17-fa7594cab96e.dcm': '',\n",
       " '006be30e-1295-4053-9ffc-fab6b527e7d9.dcm': '',\n",
       " '0076e68b-90cf-45da-a839-e67d3131182b.dcm': '',\n",
       " '0147a753-be33-4c13-8cd7-9cee88fffcf6.dcm': '',\n",
       " '018cb7c3-0ec3-484d-a6a3-bd7c376605d1': '0.78451973 704 192 256 576 0.8693544 384 256 256 512 ',\n",
       " '02270587-8e6d-4799-b689-a161db7c5c91.dcm': '',\n",
       " '0377791b-ae5b-4abb-b6ae-ac8582ac6f33.dcm': '',\n",
       " '03f9e13f-1239-4d82-802d-3ea20731e1db.dcm': '',\n",
       " '04170f9f-5d56-4ef7-9960-0afe2b50f778': '0.9326783 192 256 256 512 0.98244494 576 319 256 449 ',\n",
       " '045e5500-3dcc-4d9b-8dc2-a85c611dd497': '0.7687206 512 320 320 512 0.9525277 192 448 256 384 ',\n",
       " '04994871-0d95-4104-9e60-9573851ee997.dcm': '',\n",
       " '04e7a717-567b-4dc3-93ef-6ba4bbdc4a5a.dcm': '',\n",
       " '057a7499-4836-44ef-9490-56b002cd63c2': '0.9073762 128 128 320 640 0.97437656 576 128 256 640 ',\n",
       " '05b0b6e5-e66c-4bcf-8516-4f7c052651d3.dcm': '',\n",
       " '0d2e49e0-8fae-480b-aaa7-eede76cf9d5a': '0.70495516 192 384 256 320 0.9440605 576 448 256 256 ',\n",
       " '0ddc2515-b699-4b06-9cce-f2b7c3602449.dcm': '',\n",
       " '0e1664f0-f707-4bf0-9a33-4cc849e25284.dcm': '',\n",
       " '0e1d3610-9f6c-43ea-861f-feb86643987a': '0.77515453 128 447 258 449 0.6708278 512 512 255 319 ',\n",
       " '0e334daf-a272-453d-8d3d-80d9f31d59b7.dcm': '',\n",
       " '0e40c8e1-dd94-4ccf-8bf1-8938377704df.dcm': '',\n",
       " '0e8893e1-6a7f-4927-a15a-7fad5ec6cc66.dcm': '',\n",
       " '0ea77882-9a44-463b-9141-b8a714c83dd1.dcm': '',\n",
       " '0f923d95-7046-44ed-8aa7-243c0b98c881.dcm': '',\n",
       " '1002ef3c-7022-4769-9dcb-498738fcad24.dcm': '',\n",
       " '10689654-3a08-4582-b193-d821a2a9d3b8.dcm': '',\n",
       " '1285111b-557d-4f58-85d3-7a1425c7602e': '0.6536208 129 192 319 512 0.84032667 512 192 256 512 ',\n",
       " '131f718e-66b8-4094-a0fa-d34795732239.dcm': '',\n",
       " '134579da-ee59-40a1-a6c1-3d84b9dbbd31': '0.94396496 256 320 256 384 0.78057885 640 320 257 449 ',\n",
       " '136a7586-db1b-427d-b375-573b2c602424': '0.9526908 640 320 256 448 0.8641731 256 384 256 384 ',\n",
       " '14b6cb8d-0002-4f38-a5b7-7631b56e67df': '0.796549 192 512 256 192 0.7868583 640 512 256 192 ',\n",
       " '14e3ed14-3efe-4de9-8c95-46824591482a.dcm': '',\n",
       " '14fbeb03-cd8b-4d53-bb2a-40e08aced390.dcm': '',\n",
       " '1510b788-b081-4600-8d76-d9cb55590edd': '0.75866354 640 192 256 512 0.7082496 256 256 256 384 ',\n",
       " '1a33c6eb-c153-4f8d-8742-2184f9860ac2.dcm': '',\n",
       " '1aa7e767-f038-4a3d-bfca-6f442941ff92.dcm': '',\n",
       " '1aaf98cd-8311-48b2-831d-02e2dda16252.dcm': '',\n",
       " '1b052bac-24c6-41f2-8907-6c4788aa1e18.dcm': '',\n",
       " '1b3a8b8f-927e-43c2-a0c2-b3f2a996a636': '0.8736567 512 128 320 449 0.97575045 128 256 256 384 ',\n",
       " '1b42362a-0fec-4327-a3ea-f11b6a05efff': '0.71246946 640 384 192 320 0.8949108 256 448 256 320 ',\n",
       " '1b560be4-be73-4976-8d09-06f2dc181701': '0.9008326 256 64 128 129 0.75019026 192 255 256 577 0.806348 640 576 320 256 ',\n",
       " '1b99188f-0dac-47c5-b5e9-9588f6ac666c.dcm': '',\n",
       " '1c8e654a-1515-40d4-a0bd-790b24d8cd15': '0.9916557 256 128 192 320 0.91869754 576 128 257 640 ',\n",
       " '1cd3a288-dc8e-4591-9667-d4f1f5b48c79.dcm': '',\n",
       " '1cf2d50f-703a-4d2b-a2b2-9ccc4594c875.dcm': '',\n",
       " '1d67198f-a438-40d2-9d49-9e36a43dfb03.dcm': '',\n",
       " '1e43a738-b9b6-48ec-96de-f527264904f2.dcm': '',\n",
       " '1f39e12b-8d3b-40d4-9992-524392018df0.dcm': '',\n",
       " '1f70a977-7222-4952-9ab3-7e1e03bab09c': '0.74402344 192 255 256 513 0.9558982 576 256 192 576 ',\n",
       " '1f75252b-2fff-4b7d-82cb-31189112f05b.dcm': '',\n",
       " '1feb318a-20e7-4fc8-8e6a-145416f972b4.dcm': '',\n",
       " '1ff4d829-9c29-4f68-995e-2d267375c83c.dcm': '',\n",
       " '20529880-4ce1-46ee-aeef-763a7e80668c.dcm': '',\n",
       " '2086d3cc-021d-42d9-ad29-119b86f0b29c.dcm': '',\n",
       " '2094874f-2524-44ca-b3c5-6c4fc574625c': '0.8916154 192 192 256 320 0.85384 576 192 256 512 ',\n",
       " '2170fcb3-ac43-4128-a256-dc58c3f7381b.dcm': '',\n",
       " '21a7dbab-2bdc-4656-b51b-7f9dba14e39c.dcm': '',\n",
       " '21bd7ee7-584f-4b18-98ce-38a7b76b644d.dcm': '',\n",
       " '21f9f4de-27e2-4324-91cf-2871fe2a670c.dcm': '',\n",
       " '222b5868-4ffe-480d-9441-2e7d793b5049': '0.98853636 575 384 193 384 ',\n",
       " '23649ef2-dde7-4019-a356-75c7f064dbc5.dcm': '',\n",
       " '23a04792-8458-4eb9-b31a-7afa8862a808.dcm': '',\n",
       " '243847a8-928b-4fb9-a7e5-20ec95e0445e.dcm': '',\n",
       " '24579c4e-f0a8-4a69-b3b2-17867dc928d9.dcm': '',\n",
       " '24769263-7a02-47f7-b514-88ece09802bb.dcm': '',\n",
       " '24aeb8f6-24bd-488b-bef0-2e8fa59418fe.dcm': '',\n",
       " '252437ed-a4e2-4743-995c-65a4bb133996.dcm': '',\n",
       " '2539614e-1dc5-4ef7-8381-7f113b5fabc2.dcm': '',\n",
       " '271dac12-ff4f-40a2-8d25-f89daba97f8b.dcm': '',\n",
       " '274def79-ae29-4b96-a222-4489e79d54ea': '0.8155614 128 128 320 512 0.89468324 576 128 256 448 ',\n",
       " '27e53b80-88b1-4b72-94fd-0eb7f1a38ced': '0.88118345 576 256 256 512 0.882725 192 512 256 256 ',\n",
       " '282c7cf6-713a-45d3-921f-0a15c9e5ec1f.dcm': '',\n",
       " '2853a995-743e-43d8-9ea4-068ffc6bf420.dcm': '',\n",
       " '2969eca6-35c8-4e4c-8ba7-bb78273dec37': '0.8320042 192 192 256 640 0.82692343 640 512 256 256 ',\n",
       " '29ba9bf7-63f5-4b3a-a52a-8719e7b3762c.dcm': '',\n",
       " '2a31df3c-5131-4622-b63a-be9a058837bd': '0.8123507 128 576 320 320 0.8840166 640 576 192 384 ',\n",
       " '2ab60eb1-862d-442c-b25d-6aafbe253571': '0.91085035 191 320 257 576 0.6955609 512 385 256 447 ',\n",
       " '2b91bd91-7e7f-4d19-b0c0-5bae62ae1978.dcm': '',\n",
       " '2bc676d8-9b52-46ac-bf77-40a8846326a8.dcm': '',\n",
       " '2cafaa81-87f2-40e8-a7df-947de34103b3.dcm': '',\n",
       " '2ce6fe97-ef28-4368-a1cb-fa5f4c6717f2.dcm': '',\n",
       " '2cfda55a-6021-4740-a2cf-89abb2909762.dcm': '',\n",
       " '2d0cb523-9de7-41d3-98a1-d8fcd371e28d': '0.9507104 320 384 192 320 0.9872144 640 384 192 320 ',\n",
       " '2d701694-3c54-450e-a236-46cb724f5679': '0.7018975 192 448 256 320 0.8406284 640 512 256 256 ',\n",
       " '2d9fef3e-7129-469a-97e2-b2637fff3124.dcm': '',\n",
       " '2db9ca27-e965-4bcb-bbbd-708eb66625a6.dcm': '',\n",
       " '2dcb73d8-07ab-4158-9324-a00bbbdf8093.dcm': '',\n",
       " '2de21def-1d19-4204-8189-6c4ce33a5aec.dcm': '',\n",
       " '2e696db4-4fe7-4de8-a4ae-ac4cf76e2c03': '0.71491337 256 193 256 385 0.9267226 640 384 192 320 ',\n",
       " '2ef94893-26cc-40b0-b6fc-abd9384a3fdb.dcm': '',\n",
       " '2f235782-b322-4685-b644-e96dc480f0d7.dcm': '',\n",
       " '2f4dcc33-3ccc-41ca-8b33-9db707891518': '0.81341803 512 256 256 320 0.7386855 128 320 320 449 ',\n",
       " '2f612e6c-474d-474a-875d-f227a78911cc.dcm': '',\n",
       " '2f9119ab-038b-4657-a4aa-d6e83dcb6800': '0.9921696 512 384 192 384 0.81595224 128 448 256 384 ',\n",
       " '2feb78d1-e0e0-42d5-a7a8-ef42e655bcac.dcm': '',\n",
       " '30c0a304-f309-422d-afed-b5614565206c.dcm': '',\n",
       " 'c05a341f-e8b7-438b-a8d7-146dd746a2aa.dcm': '',\n",
       " 'c06462ab-7889-4876-95b5-a20fd2a71408.dcm': '',\n",
       " 'c1330177-9ef2-410c-a3ee-f7c1cabeddd1': '0.9268246 576 256 192 256 ',\n",
       " 'c15f29ca-8127-4be3-adf8-bda02e398575.dcm': '',\n",
       " 'c1b72754-10ab-492b-ad36-78a4b16365eb.dcm': ''}"
      ]
     },
     "execution_count": 177,
     "metadata": {
      "tags": []
     },
     "output_type": "execute_result"
    }
   ],
   "source": [
    "submission_dict"
   ]
  },
  {
   "cell_type": "code",
   "execution_count": 0,
   "metadata": {
    "colab": {},
    "colab_type": "code",
    "id": "YqgcAAqg8878"
   },
   "outputs": [],
   "source": [
    "# save dictionary as csv file\n",
    "sub = pd.DataFrame.from_dict(submission_dict, orient = 'index')\n",
    "sub.index.names = ['PatientId']\n",
    "sub.columns = ['PredictionString']\n",
    "sub.reset_index()\n",
    "\n"
   ]
  },
  {
   "cell_type": "code",
   "execution_count": 0,
   "metadata": {
    "colab": {},
    "colab_type": "code",
    "id": "jkJ7CNF8-NdQ"
   },
   "outputs": [],
   "source": []
  }
 ],
 "metadata": {
  "colab": {
   "name": "classification_detection.ipynb",
   "provenance": [],
   "toc_visible": true
  },
  "kernelspec": {
   "display_name": "Python 3",
   "language": "python",
   "name": "python3"
  },
  "language_info": {
   "codemirror_mode": {
    "name": "ipython",
    "version": 3
   },
   "file_extension": ".py",
   "mimetype": "text/x-python",
   "name": "python",
   "nbconvert_exporter": "python",
   "pygments_lexer": "ipython3",
   "version": "3.7.1"
  }
 },
 "nbformat": 4,
 "nbformat_minor": 1
}
